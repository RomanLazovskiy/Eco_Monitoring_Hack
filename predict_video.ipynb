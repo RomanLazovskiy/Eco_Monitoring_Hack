{
 "cells": [
  {
   "cell_type": "code",
   "execution_count": null,
   "id": "49e47653-4806-4ca7-83a2-bf7bfe0d7202",
   "metadata": {
    "colab": {
     "base_uri": "https://localhost:8080/"
    },
    "id": "49e47653-4806-4ca7-83a2-bf7bfe0d7202",
    "outputId": "d9176770-bb0e-4950-af5a-85b428b86670",
    "tags": []
   },
   "outputs": [],
   "source": [
    "%pip install --upgrade pip -q -U\n",
    "%pip install ultralytics -q -U\n",
    "%pip install lapx -q -U\n",
    "%pip install multiprocess -q -U\n",
    "!python3 -m pip install --upgrade tensorrt"
   ]
  },
  {
   "cell_type": "code",
   "execution_count": 1,
   "id": "lTYBzi99k6qH",
   "metadata": {
    "colab": {
     "background_save": true,
     "base_uri": "https://localhost:8080/"
    },
    "execution": {
     "iopub.execute_input": "2023-11-25T08:13:05.666519Z",
     "iopub.status.busy": "2023-11-25T08:13:05.665825Z",
     "iopub.status.idle": "2023-11-25T08:13:08.006115Z",
     "shell.execute_reply": "2023-11-25T08:13:08.004845Z",
     "shell.execute_reply.started": "2023-11-25T08:13:05.666479Z"
    },
    "id": "lTYBzi99k6qH",
    "outputId": "766fe87c-a9b8-4f63-defc-d3d4b6647bfc",
    "tags": []
   },
   "outputs": [
    {
     "name": "stdout",
     "output_type": "stream",
     "text": [
      "CPU times: user 1.75 s, sys: 326 ms, total: 2.08 s\n",
      "Wall time: 2.32 s\n"
     ]
    }
   ],
   "source": [
    "%%time\n",
    "import multiprocessing as mp\n",
    "from test import process_video"
   ]
  },
  {
   "cell_type": "code",
   "execution_count": 2,
   "id": "9d527bf7-1346-451e-945a-47f246a381f9",
   "metadata": {
    "execution": {
     "iopub.execute_input": "2023-11-25T08:13:08.008688Z",
     "iopub.status.busy": "2023-11-25T08:13:08.007625Z",
     "iopub.status.idle": "2023-11-25T08:13:08.034463Z",
     "shell.execute_reply": "2023-11-25T08:13:08.033197Z",
     "shell.execute_reply.started": "2023-11-25T08:13:08.008630Z"
    },
    "tags": []
   },
   "outputs": [
    {
     "data": {
      "text/plain": [
       "['/home/jupyter/datasphere/project/TEST/video/010.mp4',\n",
       " '/home/jupyter/datasphere/project/TEST/video/011.mp4',\n",
       " '/home/jupyter/datasphere/project/TEST/video/012.mp4',\n",
       " '/home/jupyter/datasphere/project/TEST/video/013.mp4',\n",
       " '/home/jupyter/datasphere/project/TEST/video/014.mp4',\n",
       " '/home/jupyter/datasphere/project/TEST/video/015.mp4',\n",
       " '/home/jupyter/datasphere/project/TEST/video/016.mp4',\n",
       " '/home/jupyter/datasphere/project/TEST/video/017.mp4',\n",
       " '/home/jupyter/datasphere/project/TEST/video/018.mp4',\n",
       " '/home/jupyter/datasphere/project/TEST/video/019.mp4']"
      ]
     },
     "execution_count": 2,
     "metadata": {},
     "output_type": "execute_result"
    }
   ],
   "source": [
    "import os\n",
    "import pandas as pd\n",
    "video_dir = '/home/jupyter/datasphere/project/TEST/video'\n",
    "multiproc_video_count = 10\n",
    "result_file_name = 'result'\n",
    "\n",
    "video_paths=[os.path.join(video_dir, video) for video in os.listdir(video_dir)][10:20]\n",
    "video_paths"
   ]
  },
  {
   "cell_type": "code",
   "execution_count": null,
   "id": "40563814-8d86-4657-8441-28e58d8b9704",
   "metadata": {
    "execution": {
     "iopub.execute_input": "2023-11-25T08:13:09.772563Z",
     "iopub.status.busy": "2023-11-25T08:13:09.771635Z"
    },
    "tags": [],
    "pycharm": {
     "name": "#%%\n"
    }
   },
   "outputs": [
    {
     "name": "stdout",
     "output_type": "stream",
     "text": [
      "WARNING ⚠️ Unable to automatically guess model task, assuming 'task=detect'. Explicitly define task for your model, i.e. 'task=detect', 'segment', 'classify', or 'pose'.\n",
      "WARNING ⚠️ Unable to automatically guess model task, assuming 'task=detect'. Explicitly define task for your model, i.e. 'task=detect', 'segment', 'classify', or 'pose'.\n",
      "WARNING ⚠️ Unable to automatically guess model task, assuming 'task=detect'. Explicitly define task for your model, i.e. 'task=detect', 'segment', 'classify', or 'pose'.\n",
      "WARNING ⚠️ Unable to automatically guess model task, assuming 'task=detect'. Explicitly define task for your model, i.e. 'task=detect', 'segment', 'classify', or 'pose'.\n",
      "WARNING ⚠️ Unable to automatically guess model task, assuming 'task=detect'. Explicitly define task for your model, i.e. 'task=detect', 'segment', 'classify', or 'pose'.\n",
      "WARNING ⚠️ Unable to automatically guess model task, assuming 'task=detect'. Explicitly define task for your model, i.e. 'task=detect', 'segment', 'classify', or 'pose'.\n",
      "WARNING ⚠️ Unable to automatically guess model task, assuming 'task=detect'. Explicitly define task for your model, i.e. 'task=detect', 'segment', 'classify', or 'pose'.\n",
      "WARNING ⚠️ Unable to automatically guess model task, assuming 'task=detect'. Explicitly define task for your model, i.e. 'task=detect', 'segment', 'classify', or 'pose'.\n",
      "WARNING ⚠️ Unable to automatically guess model task, assuming 'task=detect'. Explicitly define task for your model, i.e. 'task=detect', 'segment', 'classify', or 'pose'.\n",
      "WARNING ⚠️ Unable to automatically guess model task, assuming 'task=detect'. Explicitly define task for your model, i.e. 'task=detect', 'segment', 'classify', or 'pose'.\n",
      "Зашли в мультипроц\n",
      "Loading /home/jupyter/datasphere/project/yolov8l.engine for TensorRT inference...\n",
      "Loading /home/jupyter/datasphere/project/yolov8l.engine for TensorRT inference...\n",
      "Loading /home/jupyter/datasphere/project/yolov8l.engine for TensorRT inference...\n",
      "Loading /home/jupyter/datasphere/project/yolov8l.engine for TensorRT inference...\n",
      "Loading /home/jupyter/datasphere/project/yolov8l.engine for TensorRT inference...\n",
      "Loading /home/jupyter/datasphere/project/yolov8l.engine for TensorRT inference...\n",
      "Loading /home/jupyter/datasphere/project/yolov8l.engine for TensorRT inference...\n",
      "Loading /home/jupyter/datasphere/project/yolov8l.engine for TensorRT inference...\n",
      "Loading /home/jupyter/datasphere/project/yolov8l.engine for TensorRT inference...\n",
      "Loading /home/jupyter/datasphere/project/yolov8l.engine for TensorRT inference...\n",
      "[11/25/2023-08:13:13] [TRT] [I] [MemUsageChange] Init CUDA: CPU +272, GPU +0, now: CPU 434, GPU 4702 (MiB)\n",
      "[11/25/2023-08:13:13] [TRT] [I] [MemUsageChange] Init CUDA: CPU +272, GPU +0, now: CPU 434, GPU 4742 (MiB)\n",
      "[11/25/2023-08:13:13] [TRT] [I] [MemUsageChange] Init CUDA: CPU +272, GPU +0, now: CPU 434, GPU 4846 (MiB)\n",
      "[11/25/2023-08:13:13] [TRT] [I] [MemUsageChange] Init CUDA: CPU +272, GPU +0, now: CPU 434, GPU 4846 (MiB)\n",
      "[11/25/2023-08:13:13] [TRT] [I] [MemUsageChange] Init CUDA: CPU +272, GPU +0, now: CPU 434, GPU 4962 (MiB)\n",
      "[11/25/2023-08:13:13] [TRT] [I] [MemUsageChange] Init CUDA: CPU +272, GPU +0, now: CPU 434, GPU 4962 (MiB)\n",
      "[11/25/2023-08:13:14] [TRT] [I] [MemUsageChange] Init CUDA: CPU +272, GPU +0, now: CPU 434, GPU 5006 (MiB)\n",
      "[11/25/2023-08:13:14] [TRT] [I] [MemUsageChange] Init CUDA: CPU +272, GPU +0, now: CPU 434, GPU 5010 (MiB)\n",
      "[11/25/2023-08:13:14] [TRT] [I] [MemUsageChange] Init CUDA: CPU +272, GPU +0, now: CPU 434, GPU 5010 (MiB)\n",
      "[11/25/2023-08:13:14] [TRT] [I] [MemUsageChange] Init CUDA: CPU +272, GPU +0, now: CPU 434, GPU 5010 (MiB)\n",
      "[11/25/2023-08:13:14] [TRT] [I] Loaded engine size: 86 MiB\n",
      "[11/25/2023-08:13:14] [TRT] [W] Using an engine plan file across different models of devices is not recommended and is likely to affect performance or even cause errors.\n",
      "[11/25/2023-08:13:14] [TRT] [I] Loaded engine size: 86 MiB\n",
      "[11/25/2023-08:13:14] [TRT] [W] Using an engine plan file across different models of devices is not recommended and is likely to affect performance or even cause errors.\n",
      "[11/25/2023-08:13:14] [TRT] [I] Loaded engine size: 86 MiB\n",
      "[11/25/2023-08:13:14] [TRT] [W] Using an engine plan file across different models of devices is not recommended and is likely to affect performance or even cause errors.\n",
      "[11/25/2023-08:13:14] [TRT] [I] Loaded engine size: 86 MiB\n",
      "[11/25/2023-08:13:14] [TRT] [W] Using an engine plan file across different models of devices is not recommended and is likely to affect performance or even cause errors.\n",
      "[11/25/2023-08:13:14] [TRT] [I] Loaded engine size: 86 MiB\n",
      "[11/25/2023-08:13:14] [TRT] [W] Using an engine plan file across different models of devices is not recommended and is likely to affect performance or even cause errors.\n",
      "[11/25/2023-08:13:14] [TRT] [I] [MemUsageChange] TensorRT-managed allocation in engine deserialization: CPU +0, GPU +0, now: CPU 0, GPU 0 (MiB)\n",
      "[11/25/2023-08:13:14] [TRT] [I] [MemUsageChange] TensorRT-managed allocation in IExecutionContext creation: CPU +0, GPU +0, now: CPU 0, GPU 0 (MiB)\n",
      "[11/25/2023-08:13:14] [TRT] [I] Loaded engine size: 86 MiB\n",
      "[11/25/2023-08:13:14] [TRT] [W] Using an engine plan file across different models of devices is not recommended and is likely to affect performance or even cause errors.\n",
      "[11/25/2023-08:13:14] [TRT] [I] Loaded engine size: 86 MiB\n",
      "[11/25/2023-08:13:14] [TRT] [W] Using an engine plan file across different models of devices is not recommended and is likely to affect performance or even cause errors.\n",
      "[11/25/2023-08:13:14] [TRT] [I] [MemUsageChange] TensorRT-managed allocation in engine deserialization: CPU +0, GPU +0, now: CPU 0, GPU 0 (MiB)\n",
      "[11/25/2023-08:13:14] [TRT] [I] [MemUsageChange] TensorRT-managed allocation in IExecutionContext creation: CPU +0, GPU +0, now: CPU 0, GPU 0 (MiB)\n",
      "[11/25/2023-08:13:14] [TRT] [I] [MemUsageChange] TensorRT-managed allocation in engine deserialization: CPU +0, GPU +0, now: CPU 0, GPU 0 (MiB)\n",
      "[11/25/2023-08:13:14] [TRT] [I] [MemUsageChange] TensorRT-managed allocation in IExecutionContext creation: CPU +0, GPU +0, now: CPU 0, GPU 0 (MiB)\n",
      "[11/25/2023-08:13:14] [TRT] [I] Loaded engine size: 86 MiB\n",
      "[11/25/2023-08:13:14] [TRT] [W] Using an engine plan file across different models of devices is not recommended and is likely to affect performance or even cause errors.\n",
      "[11/25/2023-08:13:14] [TRT] [I] [MemUsageChange] TensorRT-managed allocation in engine deserialization: CPU +0, GPU +0, now: CPU 0, GPU 0 (MiB)\n",
      "[11/25/2023-08:13:14] [TRT] [I] Loaded engine size: 86 MiB\n",
      "[11/25/2023-08:13:14] [TRT] [I] [MemUsageChange] TensorRT-managed allocation in engine deserialization: CPU +0, GPU +0, now: CPU 0, GPU 0 (MiB)\n",
      "[11/25/2023-08:13:14] [TRT] [W] Using an engine plan file across different models of devices is not recommended and is likely to affect performance or even cause errors.\n",
      "[11/25/2023-08:13:14] [TRT] [I] [MemUsageChange] TensorRT-managed allocation in IExecutionContext creation: CPU +0, GPU +0, now: CPU 0, GPU 0 (MiB)\n",
      "[11/25/2023-08:13:14] [TRT] [I] [MemUsageChange] TensorRT-managed allocation in IExecutionContext creation: CPU +0, GPU +0, now: CPU 0, GPU 0 (MiB)\n",
      "[11/25/2023-08:13:14] [TRT] [I] [MemUsageChange] TensorRT-managed allocation in engine deserialization: CPU +0, GPU +0, now: CPU 0, GPU 0 (MiB)\n",
      "[11/25/2023-08:13:14] [TRT] [I] [MemUsageChange] TensorRT-managed allocation in IExecutionContext creation: CPU +0, GPU +0, now: CPU 0, GPU 0 (MiB)\n",
      "[11/25/2023-08:13:14] [TRT] [I] [MemUsageChange] TensorRT-managed allocation in engine deserialization: CPU +0, GPU +0, now: CPU 0, GPU 0 (MiB)\n",
      "[11/25/2023-08:13:14] [TRT] [I] Loaded engine size: 86 MiB\n",
      "[11/25/2023-08:13:14] [TRT] [W] Using an engine plan file across different models of devices is not recommended and is likely to affect performance or even cause errors.\n",
      "[11/25/2023-08:13:14] [TRT] [I] [MemUsageChange] TensorRT-managed allocation in IExecutionContext creation: CPU +0, GPU +0, now: CPU 0, GPU 0 (MiB)\n",
      "[11/25/2023-08:13:14] [TRT] [I] [MemUsageChange] TensorRT-managed allocation in engine deserialization: CPU +0, GPU +0, now: CPU 0, GPU 0 (MiB)\n",
      "[11/25/2023-08:13:14] [TRT] [I] [MemUsageChange] TensorRT-managed allocation in IExecutionContext creation: CPU +0, GPU +0, now: CPU 0, GPU 0 (MiB)\n",
      "[11/25/2023-08:13:14] [TRT] [I] [MemUsageChange] TensorRT-managed allocation in engine deserialization: CPU +0, GPU +0, now: CPU 0, GPU 0 (MiB)\n",
      "[11/25/2023-08:13:14] [TRT] [I] [MemUsageChange] TensorRT-managed allocation in IExecutionContext creation: CPU +0, GPU +0, now: CPU 0, GPU 0 (MiB)\n",
      "[11/25/2023-08:13:14] [TRT] [I] [MemUsageChange] TensorRT-managed allocation in engine deserialization: CPU +0, GPU +0, now: CPU 0, GPU 0 (MiB)\n",
      "[11/25/2023-08:13:14] [TRT] [I] [MemUsageChange] TensorRT-managed allocation in IExecutionContext creation: CPU +0, GPU +0, now: CPU 0, GPU 0 (MiB)\n"
     ]
    }
   ],
   "source": [
    "def append_data(data:list, file_result:str='result.csv'):\n",
    "    columns = ['file_name','quantity_car','average_speed_car','quantity_van','average_speed_van','quantity_bus','average_speed_bus']\n",
    "    \n",
    "    if not os.path.isfile(file_result):\n",
    "        print('Создаем новый датафрейм')\n",
    "        df = pd.DataFrame([data], columns=columns)\n",
    "    else:\n",
    "        print('Читаем файл')\n",
    "        df = pd.read_csv(file_result, sep=';')\n",
    "        df_add = pd.DataFrame([data], columns=columns)\n",
    "        df = pd.concat([df,df_add], ignore_index=False)\n",
    "\n",
    "    df.to_csv(file_result, sep=';', index=False)\n",
    "\n",
    "mp.set_start_method(\"spawn\")\n",
    "with mp.Pool(multiproc_video_count) as p:\n",
    "    print('Зашли в мультипроц')\n",
    "    r = p.map_async(process_video, video_paths)\n",
    "    r.wait()\n",
    "inf_res = r.get()\n",
    "for res in inf_res:\n",
    "    append_data(res, f'{result_file_name}.csv')"
   ]
  }
 ],
 "metadata": {
  "accelerator": "GPU",
  "colab": {
   "provenance": []
  },
  "kernelspec": {
   "display_name": "DataSphere Kernel",
   "language": "python",
   "name": "python3"
  },
  "language_info": {
   "codemirror_mode": {
    "name": "ipython",
    "version": 3
   },
   "file_extension": ".py",
   "mimetype": "text/x-python",
   "name": "python",
   "nbconvert_exporter": "python",
   "pygments_lexer": "ipython3",
   "version": "3.7.7"
  }
 },
 "nbformat": 4,
 "nbformat_minor": 5
}